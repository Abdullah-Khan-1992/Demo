{
  "cells": [
    {
      "cell_type": "markdown",
      "metadata": {
        "id": "view-in-github",
        "colab_type": "text"
      },
      "source": [
        "<a href=\"https://colab.research.google.com/github/Abdullah-Khan-1992/Piaic/blob/main/(Piaic_01).ipynb\" target=\"_parent\"><img src=\"https://colab.research.google.com/assets/colab-badge.svg\" alt=\"Open In Colab\"/></a>"
      ]
    },
    {
      "cell_type": "markdown",
      "source": [
        "# 1. Joke Bot\n",
        "Write a simple joke bot. The bot starts by asking the user what they want. However, your program will only respond to one response: Joke.\n",
        "\n",
        "If the user enters Joke then we will print out a single joke. Each time the joke is always the same:\n",
        "\n",
        "Here is a joke for you! Panaversity GPT - Sophia is heading out to the grocery store. A programmer tells her: get a liter of milk, and if they have eggs, get 12. Sophia returns with 13 liters of milk. The programmer asks why and Sophia replies: 'because they had eggs'\n",
        "\n",
        "If the user enters anything else we print out:\n",
        "\n",
        "Sorry I only tell jokes\n",
        "\n",
        "You should use the three constants:\n",
        "\n",
        "PROMPT JOKE SORRY\n",
        "\n",
        "which contain the strings for the prompt asked to the user, the joke to print out if the user enters Joke and the sorry message if the user enters anything else.\n"
      ],
      "metadata": {
        "id": "8rHKekBx08oW"
      }
    },
    {
      "cell_type": "code",
      "source": [
        "# Constants\n",
        "PROMPT: str = \"What do you want?\"\n",
        "Joke: str = \"\"\"Here is a joke for you!\n",
        "Sophia is heading out to the grocery store.\n",
        "A programmer tells her: get a liter of milk, and if they have eggs, get 12.\n",
        "Sophia returns with 13 liters of milk.\n",
        "The programmer asks why and Sophia replies: 'because they had eggs'\"\"\"\n",
        "\n",
        "# Define a function\n",
        "\n",
        "def joke_bot():\n",
        "  # 1. Get User Input\n",
        "  User_Input = input(\"PROMPT\")\n",
        "  print(User_Input)\n",
        "\n",
        "  # 2. If else statement\n",
        "  if User_Input.lower() == \"joke\":\n",
        "       print(Joke)\n",
        "  else:\n",
        "       print(\"Sorry I only tell jokes\")\n",
        "joke_bot()"
      ],
      "metadata": {
        "id": "Xuto-qn-2D6a",
        "colab": {
          "base_uri": "https://localhost:8080/"
        },
        "outputId": "e556a838-3300-4445-f534-4c315ef084bd"
      },
      "execution_count": 17,
      "outputs": [
        {
          "output_type": "stream",
          "name": "stdout",
          "text": [
            "PROMPTjoke\n",
            "joke\n",
            "Here is a joke for you!\n",
            "Sophia is heading out to the grocery store.\n",
            "A programmer tells her: get a liter of milk, and if they have eggs, get 12.\n",
            "Sophia returns with 13 liters of milk.\n",
            "The programmer asks why and Sophia replies: 'because they had eggs'\n"
          ]
        }
      ]
    },
    {
      "cell_type": "markdown",
      "source": [
        "#2. Double It\n",
        "Write a program that asks a user to enter a number. Your program will then double that number and print out the result. It will repeat that process until the value is 100 or greater.\n",
        "\n",
        "For example if the user enters the number 2 you would then print:\n",
        "\n",
        "4 8 16 32 64 128\n",
        "\n",
        "Note that:\n",
        "\n",
        "2 doubled is 4\n",
        "\n",
        "4 doubled is 8\n",
        "\n",
        "8 doubled is 16\n",
        "\n",
        "and so on.\n",
        "\n",
        "We stop at 128 because that value is greater than 100."
      ],
      "metadata": {
        "id": "HZeRC0UnokH3"
      }
    },
    {
      "cell_type": "code",
      "source": [
        "def double_it():\n",
        "  # Get user input\n",
        "  user_input = int(input(\"Enter a Number :\"))\n",
        "\n",
        "  # While loop\n",
        "  while user_input <= 100:\n",
        "    user_input = 2 * user_input\n",
        "    print(user_input, end=\" \")\n",
        "double_it()"
      ],
      "metadata": {
        "colab": {
          "base_uri": "https://localhost:8080/"
        },
        "id": "9qGHshzKuW45",
        "outputId": "1cfc8c2e-82ae-450c-ed55-7b0c0dea69a9"
      },
      "execution_count": 16,
      "outputs": [
        {
          "output_type": "stream",
          "name": "stdout",
          "text": [
            "Enter a Number :2\n",
            "4 8 16 32 64 128 "
          ]
        }
      ]
    },
    {
      "cell_type": "markdown",
      "source": [
        "#3. Liftoff\n",
        "Write a program that prints out the calls for a spaceship that is about to launch. Countdown from 10 to 1 and then output Liftoff!\n",
        "\n",
        "Here's a sample run of the program:\n",
        "\n",
        "10 9 8 7 6 5 4 3 2 1 Liftoff!\n",
        "\n",
        "There are many ways to solve this problem. One approach is to use a for loop, and to use the for loop variable i. Recall that i will keep track of how many times the for loop has completed executing its body. As an example this code:"
      ],
      "metadata": {
        "id": "8tDcXYWZ0EXP"
      }
    },
    {
      "cell_type": "code",
      "source": [
        "# for loop\n",
        "def Count_down1():\n",
        "  for i in range(10,0,-1):\n",
        "    print(i, end=\" \")\n",
        "  print(\"Liftoff!\")\n",
        "\n",
        "# for countdown\n",
        "Number_list = [10,9,8,7,6,5,4,3,2,1,]\n",
        "def Count_down2():\n",
        "  for i in Number_list:\n",
        "    print(i, end=\" \")\n",
        "  print(\"Liftoff!\")\n",
        "Count_down2()\n"
      ],
      "metadata": {
        "colab": {
          "base_uri": "https://localhost:8080/"
        },
        "id": "3QLEAQXl0dSH",
        "outputId": "385fa9d5-44de-4ffe-99ae-e824f7527f96"
      },
      "execution_count": 19,
      "outputs": [
        {
          "output_type": "stream",
          "name": "stdout",
          "text": [
            "10 9 8 7 6 5 4 3 2 1 Liftoff!\n"
          ]
        }
      ]
    },
    {
      "cell_type": "markdown",
      "source": [
        "#4. Guess My Number\n",
        "\n",
        "I am thinking of a number between 0 and 99... Enter a guess: 50 Your guess is too high\n",
        "\n",
        "Enter a new number: 25 Your guess is too low\n",
        "\n",
        "Enter a new number: 40 Your guess is too low\n",
        "\n",
        "Enter a new number: 45 Your guess is too low\n",
        "\n",
        "Enter a new number: 48 Congrats! The number was: 48"
      ],
      "metadata": {
        "id": "BLsgBRHZ7oKO"
      }
    },
    {
      "cell_type": "code",
      "source": [
        "# Computer generate and save a number using random\n",
        "import random\n",
        "\n",
        "random_generated_num: int = random.randint(1,9)\n",
        "\n",
        "allowed_attempts: int = 5\n",
        "user_attempts: int = 0\n",
        "\n",
        "while user_attempts < allowed_attempts:\n",
        "    # Get user number\n",
        "    user_input = int(input(\"Enter a number :\"))\n",
        "    user_attempts += 1\n",
        "    # If statement:\n",
        "      # elif only comparison\n",
        "    if user_input == random_generated_num:\n",
        "      print(\"Congrats! The number was:\", random_generated_num)\n",
        "      break\n",
        "    elif user_input < random_generated_num:\n",
        "      print(\"Your guess is too low\")\n",
        "    elif user_input > random_generated_num:\n",
        "      print(\"Your guess is too high\")\n",
        "    else:\n",
        "      print(\"Congrats! The number was:\", random_generated_num)\n",
        "\n",
        "    if (user_attempts == allowed_attempts):\n",
        "      print(\"Game Over\")"
      ],
      "metadata": {
        "colab": {
          "base_uri": "https://localhost:8080/"
        },
        "id": "bVGxknj_7n4f",
        "outputId": "04f6b605-74ca-4d3f-83f9-64c6a4856d99"
      },
      "execution_count": 36,
      "outputs": [
        {
          "output_type": "stream",
          "name": "stdout",
          "text": [
            "Enter a number :1\n",
            "Your guess is too low\n",
            "Enter a number :4\n",
            "Your guess is too high\n",
            "Enter a number :7\n",
            "Your guess is too high\n",
            "Enter a number :9\n",
            "Your guess is too high\n",
            "Enter a number :5\n",
            "Your guess is too high\n",
            "Game Over\n"
          ]
        }
      ]
    },
    {
      "cell_type": "markdown",
      "source": [
        "#5. Random Number\n",
        "Print 10 random numbers in the range 1 to 100.\n",
        "\n",
        "Here is an example run:\n",
        "\n",
        "45 79 61 47 52 10 16 83 19 12\n",
        "\n",
        "Each time you run your program you should get different numbers\n",
        "\n",
        "81 76 70 1 27 63 96 100 32 92\n",
        "\n",
        "Recall that the python random library has a function randint which returns an integer in the range set by the parameters (inclusive). For example this call would produce a random integer between 1 and 6, which could include 1 and could include 6:\n",
        "\n",
        "value = random.randint(1, 6)"
      ],
      "metadata": {
        "id": "wUF7QZLwNH3g"
      }
    },
    {
      "cell_type": "code",
      "source": [
        "import random\n",
        "Minimum_number: int = 1\n",
        "Maximum_number: int = 100\n",
        "N_random_numbers: int = 10\n",
        "\n",
        "number_list = []\n",
        "for i in range(N_random_numbers):\n",
        "  random_number = random.randint(Minimum_number, Maximum_number)\n",
        "  number_list.append(random_number)\n",
        "  print(random.randint(Minimum_number, Maximum_number), end=\" \")"
      ],
      "metadata": {
        "colab": {
          "base_uri": "https://localhost:8080/"
        },
        "id": "qoeavD2RNSz3",
        "outputId": "8500de40-f80b-446c-a62c-2291272a3959"
      },
      "execution_count": 44,
      "outputs": [
        {
          "output_type": "stream",
          "name": "stdout",
          "text": [
            "33 79 49 3 51 44 74 59 75 21 "
          ]
        }
      ]
    },
    {
      "cell_type": "code",
      "source": [
        "print(*number_list)"
      ],
      "metadata": {
        "colab": {
          "base_uri": "https://localhost:8080/"
        },
        "id": "iJpFU0yzQcLW",
        "outputId": "4f9e7827-3724-46fc-c9b1-455a62cecf1a"
      },
      "execution_count": 46,
      "outputs": [
        {
          "output_type": "stream",
          "name": "stdout",
          "text": [
            "42 28 76 23 8 49 95 44 43 90\n"
          ]
        }
      ]
    },
    {
      "cell_type": "markdown",
      "source": [
        "#6(a). Planetary Weight Calculator\n",
        "Milestone #1: Mars Weight\n",
        "A few years ago, NASA made history with the first controlled flight on another planet. Its latest Mars Rover, Perseverance, has onboard a 50cm high helicopter called Ingenuity. Ingenuity made its third flight, during which it flew faster and further than it had on any of its test flights on Earth. Interestingly, Ingenuity uses Python for some of its flight modeling software!\n",
        "\n",
        "Ingenuity on the surface of Mars (source: NASA)\n",
        "\n",
        "When programming Ingenuity, one of the things that NASA engineers need to account for is the fact that due to the weaker gravity on Mars, an Earthling's weight on Mars is 37.8% of their weight on Earth. Write a Python program that prompts an Earthling to enter their weight on Earth and prints their calculated weight on Mars.\n",
        "\n",
        "The output should be rounded to two decimal places when necessary. Python has a round function which can help you with this. You pass in the value to be rounded and the number of decimal places to use. In the example below, the number 3.1415926 is rounded to 2 decimal places which is 3.14."
      ],
      "metadata": {
        "id": "vy9UEu1yUuUK"
      }
    },
    {
      "cell_type": "code",
      "source": [
        "# Planetary Constants\n",
        "Mars_constant: float = 0.378\n",
        "Mercury_constant: float = 0.376\n",
        "MERCURY_CONSTANT: float = 0.376\n",
        "VENUS_CONSTANT: float = 0.889\n",
        "MARS_CONSTANT: float = 0.378\n",
        "JUPITER_CONSTANT: float = 2.360\n",
        "SATURN_CONSTANT: float = 1.081\n",
        "URANUS_CONSTANT: float = 0.815\n",
        "NEPTUNE_CONSTANT: float = 1.140\n",
        "\n",
        "\n",
        "def planet_weight_calculator():\n",
        "  # Milestone 01 (Weight on earth)\n",
        "  User_weight: float = float (input(\"What is your weight on earth? \"))\n",
        "\n",
        "  # Milestone 02 (weight on other Planets )\n",
        "  Planet_name: str = input(\"What is you planet name? \")\n",
        "\n",
        "  # Milestone 03 (Which planets constant?)\n",
        "  gravity_constant = 0\n",
        "  if Planet_name.lower == \"mars\":\n",
        "    gravity_constant = MARS_CONSTANT\n",
        "  elif Planet_name.lower == \"mercury\":\n",
        "    gravity_constant = MERCURY_CONSTANT\n",
        "  elif Planet_name.lower == \"venus\":\n",
        "    gravity_constant = VENUS_CONSTANT\n",
        "  elif Planet_name.lower == \"jupiter\":\n",
        "    gravity_constant = JUPITER_CONSTANT\n",
        "  elif Planet_name.lower == \"saturn\":\n",
        "    gravity_constant = SATURN_CONSTANT\n",
        "  elif Planet_name.lower == \"uranus\":\n",
        "    gravity_constant = URANUS_CONSTANT\n",
        "  elif Planet_name.lower == \"neptune\":\n",
        "    gravity_constant = NEPTUNE_CONSTANT\n",
        "  else:\n",
        "    return\"Invalid Planet Name\"\n",
        "\n",
        "  weight = round((User_weight * MARS_CONSTANT),2)\n",
        "  return f\"Your weight on {Planet_name} is: {weight}\"\n",
        "\n",
        "my_weight_on_mars = planet_weight_calculator()\n",
        "print(my_weight_on_mars)"
      ],
      "metadata": {
        "id": "n0lSp5A6dNB-"
      },
      "execution_count": null,
      "outputs": []
    },
    {
      "cell_type": "code",
      "source": [
        "my_weight_on_mars = planet_weight_calculator()\n",
        "print(my_weight_on_mars)"
      ],
      "metadata": {
        "colab": {
          "base_uri": "https://localhost:8080/"
        },
        "id": "QtsxxjgdtfKl",
        "outputId": "e0d98928-f7f2-450d-ab6a-29bcff3342c3"
      },
      "execution_count": 70,
      "outputs": [
        {
          "output_type": "stream",
          "name": "stdout",
          "text": [
            "What is your weight on earth? 80\n",
            "What is you planet name? neptune\n",
            "Invalid Planet Name\n"
          ]
        }
      ]
    }
  ],
  "metadata": {
    "colab": {
      "provenance": [],
      "authorship_tag": "ABX9TyNCPJL+RrXwaDHvmpci1m6l",
      "include_colab_link": true
    },
    "kernelspec": {
      "display_name": "Python 3",
      "name": "python3"
    },
    "language_info": {
      "name": "python"
    }
  },
  "nbformat": 4,
  "nbformat_minor": 0
}