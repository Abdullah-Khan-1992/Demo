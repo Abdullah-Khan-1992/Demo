{
  "cells": [
    {
      "cell_type": "markdown",
      "metadata": {
        "id": "view-in-github",
        "colab_type": "text"
      },
      "source": [
        "<a href=\"https://colab.research.google.com/github/Abdullah-Khan-1992/Piaic/blob/main/(Piaic_01).ipynb\" target=\"_parent\"><img src=\"https://colab.research.google.com/assets/colab-badge.svg\" alt=\"Open In Colab\"/></a>"
      ]
    },
    {
      "cell_type": "markdown",
      "source": [
        "# 1. Joke Bot\n",
        "Write a simple joke bot. The bot starts by asking the user what they want. However, your program will only respond to one response: Joke.\n",
        "\n",
        "If the user enters Joke then we will print out a single joke. Each time the joke is always the same:\n",
        "\n",
        "Here is a joke for you! Panaversity GPT - Sophia is heading out to the grocery store. A programmer tells her: get a liter of milk, and if they have eggs, get 12. Sophia returns with 13 liters of milk. The programmer asks why and Sophia replies: 'because they had eggs'\n",
        "\n",
        "If the user enters anything else we print out:\n",
        "\n",
        "Sorry I only tell jokes\n",
        "\n",
        "You should use the three constants:\n",
        "\n",
        "PROMPT JOKE SORRY\n",
        "\n",
        "which contain the strings for the prompt asked to the user, the joke to print out if the user enters Joke and the sorry message if the user enters anything else.\n"
      ],
      "metadata": {
        "id": "8rHKekBx08oW"
      }
    },
    {
      "cell_type": "code",
      "source": [
        "# Constants\n",
        "PROMPT: str = \"What do you want?\"\n",
        "Joke: str = \"\"\"Here is a joke for you!\n",
        "Sophia is heading out to the grocery store.\n",
        "A programmer tells her: get a liter of milk, and if they have eggs, get 12.\n",
        "Sophia returns with 13 liters of milk.\n",
        "The programmer asks why and Sophia replies: 'because they had eggs'\"\"\"\n",
        "\n",
        "# Define a function\n",
        "\n",
        "def joke_bot():\n",
        "  # 1. Get User Input\n",
        "  User_Input = input(\"PROMPT\")\n",
        "  print(User_Input)\n",
        "\n",
        "  # 2. If else statement\n",
        "  if User_Input.lower() == \"joke\":\n",
        "       print(Joke)\n",
        "  else:\n",
        "       print(\"Sorry I only tell jokes\")\n",
        "joke_bot()"
      ],
      "metadata": {
        "id": "Xuto-qn-2D6a",
        "colab": {
          "base_uri": "https://localhost:8080/"
        },
        "outputId": "e556a838-3300-4445-f534-4c315ef084bd"
      },
      "execution_count": 17,
      "outputs": [
        {
          "output_type": "stream",
          "name": "stdout",
          "text": [
            "PROMPTjoke\n",
            "joke\n",
            "Here is a joke for you!\n",
            "Sophia is heading out to the grocery store.\n",
            "A programmer tells her: get a liter of milk, and if they have eggs, get 12.\n",
            "Sophia returns with 13 liters of milk.\n",
            "The programmer asks why and Sophia replies: 'because they had eggs'\n"
          ]
        }
      ]
    },
    {
      "cell_type": "markdown",
      "source": [
        "#2. Double It\n",
        "Write a program that asks a user to enter a number. Your program will then double that number and print out the result. It will repeat that process until the value is 100 or greater.\n",
        "\n",
        "For example if the user enters the number 2 you would then print:\n",
        "\n",
        "4 8 16 32 64 128\n",
        "\n",
        "Note that:\n",
        "\n",
        "2 doubled is 4\n",
        "\n",
        "4 doubled is 8\n",
        "\n",
        "8 doubled is 16\n",
        "\n",
        "and so on.\n",
        "\n",
        "We stop at 128 because that value is greater than 100."
      ],
      "metadata": {
        "id": "HZeRC0UnokH3"
      }
    },
    {
      "cell_type": "code",
      "source": [
        "def double_it():\n",
        "  # Get user input\n",
        "  user_input = int(input(\"Enter a Number :\"))\n",
        "\n",
        "  # While loop\n",
        "  while user_input <= 100:\n",
        "    user_input = 2 * user_input\n",
        "    print(user_input, end=\" \")\n",
        "double_it()"
      ],
      "metadata": {
        "colab": {
          "base_uri": "https://localhost:8080/"
        },
        "id": "9qGHshzKuW45",
        "outputId": "1cfc8c2e-82ae-450c-ed55-7b0c0dea69a9"
      },
      "execution_count": 16,
      "outputs": [
        {
          "output_type": "stream",
          "name": "stdout",
          "text": [
            "Enter a Number :2\n",
            "4 8 16 32 64 128 "
          ]
        }
      ]
    },
    {
      "cell_type": "markdown",
      "source": [
        "#3. Liftoff\n",
        "Write a program that prints out the calls for a spaceship that is about to launch. Countdown from 10 to 1 and then output Liftoff!\n",
        "\n",
        "Here's a sample run of the program:\n",
        "\n",
        "10 9 8 7 6 5 4 3 2 1 Liftoff!\n",
        "\n",
        "There are many ways to solve this problem. One approach is to use a for loop, and to use the for loop variable i. Recall that i will keep track of how many times the for loop has completed executing its body. As an example this code:"
      ],
      "metadata": {
        "id": "8tDcXYWZ0EXP"
      }
    },
    {
      "cell_type": "code",
      "source": [
        "# for loop\n",
        "def Count_down1():\n",
        "  for i in range(10,0,-1):\n",
        "    print(i, end=\" \")\n",
        "  print(\"Liftoff!\")\n",
        "\n",
        "# for countdown\n",
        "Number_list = [10,9,8,7,6,5,4,3,2,1,]\n",
        "def Count_down2():\n",
        "  for i in Number_list:\n",
        "    print(i, end=\" \")\n",
        "  print(\"Liftoff!\")\n",
        "Count_down2()\n"
      ],
      "metadata": {
        "colab": {
          "base_uri": "https://localhost:8080/"
        },
        "id": "3QLEAQXl0dSH",
        "outputId": "385fa9d5-44de-4ffe-99ae-e824f7527f96"
      },
      "execution_count": 19,
      "outputs": [
        {
          "output_type": "stream",
          "name": "stdout",
          "text": [
            "10 9 8 7 6 5 4 3 2 1 Liftoff!\n"
          ]
        }
      ]
    }
  ],
  "metadata": {
    "colab": {
      "provenance": [],
      "authorship_tag": "ABX9TyNZrtYLDRsFIqAWxOeNos2z",
      "include_colab_link": true
    },
    "kernelspec": {
      "display_name": "Python 3",
      "name": "python3"
    },
    "language_info": {
      "name": "python"
    }
  },
  "nbformat": 4,
  "nbformat_minor": 0
}